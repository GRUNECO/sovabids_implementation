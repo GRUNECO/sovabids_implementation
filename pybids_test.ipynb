{
  "cells": [
    {
      "cell_type": "code",
      "execution_count": 5,
      "metadata": {
        "colab": {
          "base_uri": "https://localhost:8080/"
        },
        "id": "6e934J4luV9w",
        "outputId": "3b09a4a5-e3d6-4a64-dfd5-e91e581601c3"
      },
      "outputs": [
        {
          "name": "stdout",
          "output_type": "stream",
          "text": [
            "Drive already mounted at /content/drive; to attempt to forcibly remount, call drive.mount(\"/content/drive\", force_remount=True).\n"
          ]
        }
      ],
      "source": [
        "from google.colab import drive\n",
        "drive.mount('/content/drive')"
      ]
    },
    {
      "cell_type": "code",
      "execution_count": 6,
      "metadata": {
        "colab": {
          "base_uri": "https://localhost:8080/"
        },
        "id": "MuTKyvz1vTv4",
        "outputId": "85ed2d62-53ac-4263-d6ec-76db3d3a4830"
      },
      "outputs": [
        {
          "name": "stdout",
          "output_type": "stream",
          "text": [
            "Looking in indexes: https://pypi.org/simple, https://us-python.pkg.dev/colab-wheels/public/simple/\n",
            "Requirement already satisfied: bids in /usr/local/lib/python3.9/dist-packages (0.0)\n",
            "Requirement already satisfied: pybids in /usr/local/lib/python3.9/dist-packages (from bids) (0.15.6)\n",
            "Requirement already satisfied: formulaic<0.6,>=0.2.4 in /usr/local/lib/python3.9/dist-packages (from pybids->bids) (0.5.2)\n",
            "Requirement already satisfied: numpy in /usr/local/lib/python3.9/dist-packages (from pybids->bids) (1.22.4)\n",
            "Requirement already satisfied: nibabel>=2.1 in /usr/local/lib/python3.9/dist-packages (from pybids->bids) (3.0.2)\n",
            "Requirement already satisfied: pandas>=0.23 in /usr/local/lib/python3.9/dist-packages (from pybids->bids) (1.4.4)\n",
            "Requirement already satisfied: scipy in /usr/local/lib/python3.9/dist-packages (from pybids->bids) (1.10.1)\n",
            "Requirement already satisfied: num2words in /usr/local/lib/python3.9/dist-packages (from pybids->bids) (0.5.12)\n",
            "Requirement already satisfied: click>=8.0 in /usr/local/lib/python3.9/dist-packages (from pybids->bids) (8.1.3)\n",
            "Requirement already satisfied: bids-validator in /usr/local/lib/python3.9/dist-packages (from pybids->bids) (1.11.0)\n",
            "Requirement already satisfied: sqlalchemy<1.4.0.dev0 in /usr/local/lib/python3.9/dist-packages (from pybids->bids) (1.3.24)\n",
            "Requirement already satisfied: typing-extensions>=4.2.0 in /usr/local/lib/python3.9/dist-packages (from formulaic<0.6,>=0.2.4->pybids->bids) (4.5.0)\n",
            "Requirement already satisfied: interface-meta>=1.2.0 in /usr/local/lib/python3.9/dist-packages (from formulaic<0.6,>=0.2.4->pybids->bids) (1.3.0)\n",
            "Requirement already satisfied: wrapt>=1.0 in /usr/local/lib/python3.9/dist-packages (from formulaic<0.6,>=0.2.4->pybids->bids) (1.14.1)\n",
            "Requirement already satisfied: astor>=0.8 in /usr/local/lib/python3.9/dist-packages (from formulaic<0.6,>=0.2.4->pybids->bids) (0.8.1)\n",
            "Requirement already satisfied: pytz>=2020.1 in /usr/local/lib/python3.9/dist-packages (from pandas>=0.23->pybids->bids) (2022.7.1)\n",
            "Requirement already satisfied: python-dateutil>=2.8.1 in /usr/local/lib/python3.9/dist-packages (from pandas>=0.23->pybids->bids) (2.8.2)\n",
            "Requirement already satisfied: docopt>=0.6.2 in /usr/local/lib/python3.9/dist-packages (from num2words->pybids->bids) (0.6.2)\n",
            "Requirement already satisfied: six>=1.5 in /usr/local/lib/python3.9/dist-packages (from python-dateutil>=2.8.1->pandas>=0.23->pybids->bids) (1.16.0)\n"
          ]
        }
      ],
      "source": [
        "!pip install bids"
      ]
    },
    {
      "cell_type": "code",
      "execution_count": 8,
      "metadata": {
        "colab": {
          "base_uri": "https://localhost:8080/"
        },
        "id": "ZES2iwA-vQZy",
        "outputId": "167a78aa-c058-4db4-fc5a-fbacae47b6da"
      },
      "outputs": [
        {
          "name": "stdout",
          "output_type": "stream",
          "text": [
            "Try to convert of Dataset in BIDS format using \"conversion_bids\"\n"
          ]
        }
      ],
      "source": [
        "from bids import BIDSLayout\n",
        "\n",
        "def test_bids():\n",
        "    #sourcePath = input('Ingrese el Path: ')\n",
        "    sourcePath = '/content/drive/MyDrive/eeg2bids/database'\n",
        "    try:\n",
        "        layout = BIDSLayout(sourcePath)\n",
        "        eegs = layout.get(extension='.edf', task='CE',suffix='eeg', return_type='filename')\n",
        "        eegs += layout.get(extension='.edf', task='OE',suffix='eeg', return_type='filename')\n",
        "        print('BIDS format OK')\n",
        "    except:\n",
        "        print('Try to convert of Dataset in BIDS format using \"conversion_bids\"')\n",
        "      \n",
        "if __name__ == '__main__':\n",
        "    test_bids()\n",
        "\n",
        "\n",
        "\n"
      ]
    }
  ],
  "metadata": {
    "colab": {
      "provenance": []
    },
    "kernelspec": {
      "display_name": "Python 3",
      "name": "python3"
    },
    "language_info": {
      "name": "python"
    }
  },
  "nbformat": 4,
  "nbformat_minor": 0
}
